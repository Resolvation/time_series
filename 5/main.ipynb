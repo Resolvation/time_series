{
 "cells": [
  {
   "cell_type": "code",
   "execution_count": 1,
   "metadata": {},
   "outputs": [],
   "source": [
    "import csv\n",
    "from matplotlib import pyplot as plt\n",
    "import numpy as np"
   ]
  },
  {
   "cell_type": "code",
   "execution_count": 2,
   "metadata": {},
   "outputs": [],
   "source": [
    "def get_data(name, column='Last'):\n",
    "    \"\"\"\n",
    "    Data for this function should be taken from https://www.nasdaq.com/market-activity/stocks/*/historical,\n",
    "    where '*' is the name of company.\n",
    "    \"\"\"\n",
    "    number = {'Last': 1, 'Open': 3, 'High': 4, 'Low': 5}[column]\n",
    "    with open(name+'.csv', 'r') as csvfile:\n",
    "        data_reader = csv.reader(csvfile, delimiter=',', quotechar='|')\n",
    "        res = np.array([float(e[2:]) for e in [row[number] for row in data_reader][:0:-1]])\n",
    "    return res"
   ]
  },
  {
   "cell_type": "code",
   "execution_count": 3,
   "metadata": {},
   "outputs": [],
   "source": [
    "def plot(data, name=''):\n",
    "    plt.plot(data)\n",
    "    plt.title(name)\n",
    "    plt.xlabel('days')\n",
    "    plt.ylabel('price, $')\n",
    "    plt.grid()\n",
    "    plt.show()"
   ]
  },
  {
   "cell_type": "code",
   "execution_count": 4,
   "metadata": {},
   "outputs": [],
   "source": [
    "def la(data, p, second_order=True, eps=1e-5):\n",
    "    Xi = 3 * (p + 1)\n",
    "    X = data[np.arange(p) + np.arange(len(data) - p)[:, None]]\n",
    "    omega = np.argpartition(np.sum(np.power(X - data[-p:], 2), axis=1), Xi)[:Xi]\n",
    "    if not second_order:\n",
    "        Y = np.hstack((np.ones(Xi)[:, None], X[omega]))\n",
    "    else:\n",
    "        idx = np.arange(p)[:, None] - np.arange(p) <= 0\n",
    "        Y = np.hstack((np.ones(Xi)[:, None], (X[omega, :, None] * X[omega, None, :])[:, idx]))\n",
    "    params = np.linalg.solve(Y.T @ Y + eps * np.eye(Y.shape[1]), Y.T @ data[omega + p])\n",
    "    if not second_order:\n",
    "        return params, np.sum(params * np.hstack([1, data[-p:]]))\n",
    "    else:\n",
    "        return params, np.sum(params * np.hstack([1, (data[-p:, None] * data[-p:])[idx]]))"
   ]
  },
  {
   "cell_type": "code",
   "execution_count": 5,
   "metadata": {},
   "outputs": [
    {
     "data": {
      "image/png": "[encoded data removed]",
      "text/plain": [
       "<Figure size 432x288 with 1 Axes>"
      ]
     },
     "metadata": {
      "needs_background": "light"
     },
     "output_type": "display_data"
    }
   ],
   "source": [
    "name = 'FordMotorCompany'\n",
    "data = get_data(name, column='Last')\n",
    "plot(data, name)"
   ]
  },
  {
   "cell_type": "code",
   "execution_count": 6,
   "metadata": {},
   "outputs": [
    {
     "data": {
      "text/plain": [
       "5.03"
      ]
     },
     "execution_count": 6,
     "metadata": {},
     "output_type": "execute_result"
    }
   ],
   "source": [
    "data[-1]"
   ]
  },
  {
   "cell_type": "code",
   "execution_count": 7,
   "metadata": {},
   "outputs": [
    {
     "name": "stdout",
     "output_type": "stream",
     "text": [
      "5.04044792728646\n",
      "11.1 ms ± 653 µs per loop (mean ± std. dev. of 7 runs, 10 loops each)\n"
     ]
    }
   ],
   "source": [
    "print(la(data[:-1], 100, second_order=False)[1])\n",
    "%timeit -n 10 la(data[:-1], 100, second_order=False)[1]"
   ]
  },
  {
   "cell_type": "code",
   "execution_count": 8,
   "metadata": {},
   "outputs": [
    {
     "name": "stdout",
     "output_type": "stream",
     "text": [
      "3.9605856581104604\n",
      "6.01 ms ± 894 µs per loop (mean ± std. dev. of 7 runs, 10 loops each)\n"
     ]
    }
   ],
   "source": [
    "print(la(data[:-1], 20, second_order=True)[1])\n",
    "%timeit -n 10 la(data[:-1], 25, second_order=True)[1]"
   ]
  }
 ],
 "metadata": {
  "kernelspec": {
   "display_name": "Python 3",
   "language": "python",
   "name": "python3"
  },
  "language_info": {
   "codemirror_mode": {
    "name": "ipython",
    "version": 3
   },
   "file_extension": ".py",
   "mimetype": "text/x-python",
   "name": "python",
   "nbconvert_exporter": "python",
   "pygments_lexer": "ipython3",
   "version": "3.6.9"
  }
 },
 "nbformat": 4,
 "nbformat_minor": 2
}
